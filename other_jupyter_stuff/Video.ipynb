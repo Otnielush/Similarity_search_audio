{
 "cells": [
  {
   "cell_type": "markdown",
   "id": "3706b5f3-a1a4-4519-9db6-822b3a618580",
   "metadata": {},
   "source": [
    "https://github.com/meta-llama/llama-recipes/blob/main/recipes/use_cases/video_summary.ipynb"
   ]
  },
  {
   "cell_type": "code",
   "execution_count": null,
   "id": "4580cd3d-af24-47b9-b7a4-acf077366e72",
   "metadata": {},
   "outputs": [],
   "source": [
    "from langchain.document_loaders import YoutubeLoader\n",
    "\n",
    "loader = YoutubeLoader.from_youtube_url(\n",
    "    \"https://www.youtube.com/watch?v=5t1vTLU7s40\", add_video_info=True\n",
    ")"
   ]
  },
  {
   "cell_type": "code",
   "execution_count": null,
   "id": "419845f1-d7a4-411c-82c8-d90afff1c702",
   "metadata": {},
   "outputs": [],
   "source": [
    "# load the youtube video caption into Documents\n",
    "docs = loader.load()"
   ]
  }
 ],
 "metadata": {
  "kernelspec": {
   "display_name": "p310",
   "language": "python",
   "name": "p310"
  },
  "language_info": {
   "codemirror_mode": {
    "name": "ipython",
    "version": 3
   },
   "file_extension": ".py",
   "mimetype": "text/x-python",
   "name": "python",
   "nbconvert_exporter": "python",
   "pygments_lexer": "ipython3",
   "version": "3.10.13"
  }
 },
 "nbformat": 4,
 "nbformat_minor": 5
}
