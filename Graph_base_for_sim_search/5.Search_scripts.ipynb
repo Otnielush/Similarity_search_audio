{
 "cells": [
  {
   "cell_type": "code",
   "execution_count": 1,
   "id": "f677e495-aceb-42e9-9e79-bcada847716b",
   "metadata": {},
   "outputs": [],
   "source": [
    "import json, os\n",
    "import pandas as pd\n",
    "from tqdm.notebook import tqdm\n",
    "from neo4j import GraphDatabase\n",
    "import numpy as np\n",
    "import re"
   ]
  },
  {
   "cell_type": "code",
   "execution_count": 5,
   "id": "d49d6eeb-2c2b-4ce4-a567-d4e9d12666ff",
   "metadata": {},
   "outputs": [
    {
     "name": "stdout",
     "output_type": "stream",
     "text": [
      "Connection established.\n"
     ]
    }
   ],
   "source": [
    "with open(r\"D:\\BrainyBlaze\\BB_Repos\\access\\neo4j.json\", 'r') as f:\n",
    "    neo4j_creds = json.load(f)\n",
    "\n",
    "if 0:   # cloud base\n",
    "    pass\n",
    "    # URI = neo4j_creds['url']\n",
    "    # AUTH = (neo4j_creds['user'], neo4j_creds['password'])\n",
    "    # Database=neo4j_creds['database']\n",
    "else:  # local\n",
    "    URI = \"bolt://localhost:7687\"\n",
    "    AUTH = ('neo4j', neo4j_creds['password'])\n",
    "    Database='mm-lessons'  # manual ravgptv4 neo4j\n",
    "\n",
    "VECTOR_INDEX_NAME = \"lessons_text_embd\"\n",
    "# Connect to Neo4j database\n",
    "driver = GraphDatabase.driver(URI, auth=AUTH, max_connection_pool_size=25)\n",
    "driver.verify_connectivity()\n",
    "print(\"Connection established.\")"
   ]
  },
  {
   "cell_type": "code",
   "execution_count": null,
   "id": "95147f5d-2ef3-4cd5-8aba-eee3fc5388d4",
   "metadata": {},
   "outputs": [],
   "source": [
    "import openai"
   ]
  },
  {
   "cell_type": "code",
   "execution_count": null,
   "id": "ba77b6ce-fbef-41c2-8f06-d753a3b56e7a",
   "metadata": {},
   "outputs": [],
   "source": [
    "with open(r\"D:\\Programming\\My_reps\\OpenAI_API_my.txt\", 'r') as f:\n",
    "    openai_key = f.readlines()[0]\n",
    "client = openai.OpenAI(api_key=openai_key)\n",
    "\n",
    "def get_embedding(text, model='text-embedding-3-small'):\n",
    "    if isinstance(text, str):\n",
    "        text = [text]\n",
    "    out = client.embeddings.create(input = text, model=model)\n",
    "    return [o.embedding for o in out.data]"
   ]
  },
  {
   "cell_type": "code",
   "execution_count": 14,
   "id": "e8b13c6c-ee1d-4c4b-9f81-de6bad1c1ea4",
   "metadata": {},
   "outputs": [],
   "source": [
    "query_sim = \"\"\"CALL db.index.vector.queryNodes($vector_index_name, $top_k, $query_vector) YIELD node, score \n",
    "RETURN node.lesson_name AS lesson_name, node.time_start AS start, node.time_end AS end, node.upload_date AS upload_date, \n",
    "node.youtube_id AS youtube_id, round(score * 1000) / 1000 AS search_score \n",
    "\"\"\""
   ]
  },
  {
   "cell_type": "code",
   "execution_count": 11,
   "id": "12987a09-9d08-407e-a8c3-98543ff03f45",
   "metadata": {},
   "outputs": [],
   "source": [
    "q = \"Что такое цдака?\"\n",
    "\n",
    "embd = get_embedding(q)[0]"
   ]
  },
  {
   "cell_type": "code",
   "execution_count": 15,
   "id": "672e417a-b820-496c-be50-814964b79f8c",
   "metadata": {},
   "outputs": [],
   "source": [
    "result, _, _ = driver.execute_query(query_sim, \n",
    "                                    vector_index_name=VECTOR_INDEX_NAME, top_k=10, query_vector=embd,\n",
    "                                    database_=Database)"
   ]
  },
  {
   "cell_type": "code",
   "execution_count": 16,
   "id": "e6715b55-c151-4ebf-ba01-4c83335d9650",
   "metadata": {},
   "outputs": [
    {
     "data": {
      "text/plain": [
       "[<Record lesson_name='Жизнь евреев в древнем Израиле. Урок 14. Талмуд по-русски. Рав Йосеф Менделевич' start=1810.0 end=1919.14 upload_date='07-08-2024' youtube_id='XlE2IuD3Qrg' search_score=0.667>,\n",
       " <Record lesson_name='Доносчиков надо убивать. Уроки 9 Ава. Трактат Гитин 55-56. Рав Йосеф Менделевич' start=1559.9 end=1674.5 upload_date='11-08-2024' youtube_id='LJ5gVEQP0Ts' search_score=0.665>,\n",
       " <Record lesson_name='Билам-антрополог с психологическим уклоном. Недельная глава Балак. Рав Йосеф Менделевич' start=2032.76 end=2159.3 upload_date='18-07-2024' youtube_id='60NVT2H5LUc' search_score=0.653>,\n",
       " <Record lesson_name='Главный закон для еврея. Урок 13. Талмуд по-русски. Рав Йосеф Менделевич' start=2624.64 end=2750.58 upload_date='06-08-2024' youtube_id='93F6lq874K0' search_score=0.644>,\n",
       " <Record lesson_name='А разве современные евреи — настоящие？ Недельная глава Пинхас. Рав Йосеф Менделевич' start=4076.18 end=4153.72 upload_date='24-07-2024' youtube_id='PReNV2QCGio' search_score=0.633>,\n",
       " <Record lesson_name='Изучение Гмары подобно собиранию общей картины из груды пазлов. Урок 10. Рав Йосеф Менделевич' start=1435.78 end=1552.76 upload_date='30-07-2024' youtube_id='-j0S_cf5BRU' search_score=0.632>,\n",
       " <Record lesson_name='Рав Авраам Адлер. Почему Билам ？' start=2640.0 end=2758.0 upload_date='30-07-2024' youtube_id='Dy66SL7fQGI' search_score=0.632>,\n",
       " <Record lesson_name='Бороться  со злом？- Уничтожать! Рав Иосэф Менделевич.' start=2880.36 end=2902.56 upload_date='27-08-2024' youtube_id='RD8IjoDlRMc' search_score=0.628>,\n",
       " <Record lesson_name='Изучение Гмары подобно собиранию общей картины из груды пазлов. Урок 10. Рав Йосеф Менделевич' start=1198.98 end=1312.16 upload_date='30-07-2024' youtube_id='-j0S_cf5BRU' search_score=0.627>,\n",
       " <Record lesson_name='Как евреи роют могилы. Урок 7. Талмуд по-русски. Рав Йосеф Менделевич' start=827.44 end=949.22 upload_date='21-07-2024' youtube_id='JPDmeN8R10Q' search_score=0.619>]"
      ]
     },
     "execution_count": 16,
     "metadata": {},
     "output_type": "execute_result"
    }
   ],
   "source": [
    "result"
   ]
  }
 ],
 "metadata": {
  "kernelspec": {
   "display_name": "Agi",
   "language": "python",
   "name": "agi"
  },
  "language_info": {
   "codemirror_mode": {
    "name": "ipython",
    "version": 3
   },
   "file_extension": ".py",
   "mimetype": "text/x-python",
   "name": "python",
   "nbconvert_exporter": "python",
   "pygments_lexer": "ipython3",
   "version": "3.10.13"
  }
 },
 "nbformat": 4,
 "nbformat_minor": 5
}
