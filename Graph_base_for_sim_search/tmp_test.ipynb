{
 "cells": [
  {
   "cell_type": "code",
   "execution_count": 27,
   "metadata": {},
   "outputs": [],
   "source": [
    "import os\n",
    "from dotenv import load_dotenv\n",
    "import pandas as pd"
   ]
  },
  {
   "cell_type": "code",
   "execution_count": 16,
   "metadata": {},
   "outputs": [],
   "source": [
    "\n",
    "api_key = 'rVR805Y3qrAsXzpi9VG3vsvHGE8ULVx0'\n"
   ]
  },
  {
   "cell_type": "code",
   "execution_count": 17,
   "metadata": {},
   "outputs": [],
   "source": [
    "\n",
    "import requests\n"
   ]
  },
  {
   "cell_type": "code",
   "execution_count": 25,
   "metadata": {},
   "outputs": [],
   "source": [
    "url = \"https://api.lemonfox.ai/v1/audio/transcriptions\"\n",
    "headers = {\"Authorization\": \"Bearer \" + api_key}\n",
    "data = {\"response_format\": \"verbose_json\"}\n",
    "\n",
    "\n",
    "def recognize_audio(file_path):\n",
    "     audio_file = open(file_path, \"rb\")\n",
    "     response = requests.post(url, headers=headers, files={'file': audio_file}, data=data)\n",
    "     return response.json()"
   ]
  },
  {
   "cell_type": "code",
   "execution_count": 23,
   "metadata": {},
   "outputs": [],
   "source": [
    "resp = recognize_audio(r'C:\\Users\\Otniel\\Downloads\\tests\\Bot made with ChatGPT ｜ Detailed Instructions #26-10-2024# [ICDJv6w9DtU].m4a')"
   ]
  },
  {
   "cell_type": "code",
   "execution_count": 24,
   "metadata": {},
   "outputs": [
    {
     "name": "stdout",
     "output_type": "stream",
     "text": [
      "{'task': 'transcribe', 'language': 'en', 'duration': 426.7363125, 'text': \"Hi everyone, my name is Chow and I'm a Web3 developer. I recorded this video for my private channel, but I have decided to share it with you all for free in order to gain your support and attention for my new channel. Here, I will show you how to create and operate an Ethereum sniping bot using AI-powered chat GPT. And guess what? It already brings me and my students passive income every day, which is amazing. This sniping bot monitors for new tokens and significant price changes. When it finds an opportunity, it acts like a ninja, buying or selling tokens quickly before other traders realize what's happening. This gives us an advantage in making money on price differences. The secret of the bot's success is its ability to detect tokens immediately after they are listed, or when there is a sudden price change. It uses sophisticated algorithms to identify these movements and make trades for you. If you think this sounds too complicated, don't worry. It's actually pretty simple and doesn't require any coding knowledge. Enjoy your viewing. Alright, let's start. I asked ChatGPT to write me a code for a smart contract on Ethereum to automatically hunt for sniping opportunities to earn Ethereum. Then head over to Remix. Remix is a Web3 application that allows us to develop, compile, deploy, and launch smart contracts coded in the solidity language. I'll put a link to Remix in the description below. Make sure you have the Metamask browser extension installed, and you're connected to the Ethereum Mainnet. If it's your first time on remix, it may ask you to agree to their terms. I've already done it. Head over to the sidebar on the left and create a new contract. We're going to name it bot.soul. Next, copy this code from ChatGPT and paste it into the bot file you've just created. This is our sniping trading bot. I will also place this code under the description so that you can copy it. A couple of things to look at after pasting the code are lines 13 and 14. You can follow these addresses using Ether Scan. These are the addresses of wrapped ether tokens, which we'll be competing against. You don't actually need to have any wrapped ether. Yep, perfect. It's the official wrapped ether address. Always a good idea to check that. Back to Remix. Now that our bot file is ready, let's compile it. As you can see, it's built with the 0.6.6 version of Solidity. To avoid errors, use the same version. Also, make sure that the language is set to solidity, and the EVM version is set to default. Enable optimization. Now click on the Compile Bot button and wait for the bot to compile. Now we're going to deploy this to our wallet. Head over to the deploy and run transactions tab in Remix. Here we need to select injected provider as the environment. We need to confirm the contract on the blockchain by paying gas fees. Gas fees are the commission for the Ethereum network for smart contract deployment. Now the deployment under utility is ready to go. Click deploy. I always set the gas fee to high. There's usually not much of a difference, and it puts the transaction through much faster. Now we wait for the transaction to confirm. We can see here that it is confirmed, meaning our smart contract is deployed. Now you can see the various functions for our smart contract. The start button enables the bot to start monitoring the markets. The withdrawal button stops the bot and transfers funds back to the wallet. You can also see the current balance of the bot. When the smart contract is deployed, copy the address and check it on EtherScan. As we can see, my wallet is the creator of this contract. Excellent. Fund it with some Ethereum, which will be used for trading. Make sure you get the right address here. You can fund the contract with whatever amount of Ethereum you want, but keep in mind that the more you put in, the larger the trades you'll be able to make, and potentially more profit you can accumulate over time. Sweet. There we go. The transaction confirms that the funds were sent to the contract. Nice. It's got two Ethereum, which is the amount we funded the contract with. The last step is to click the start button. This will enable the bot to start sniffing the mempool to find different liquidity pairs in order for you to sandwich transactions. Let's set the gas speed to high, save, and click confirm. We are waiting for confirmation. Excellent. Let's go to EtherScan and make sure the bot has started working. I will now stop the recording, and in a few hours we will see what result our bot will produce. Okay, I'm here, and it's been about five hours. Let's see what we got. So, as you can see, I have about 2.6 Ethereum, which is 30% profit already. Here we can see several bot transactions, which in total has brought us 0.6 Ethereum. Let's go to Remix, and as we can see, the bot's balance is the same. I'll let the bot run for a while longer and come back to check the results. All right, let's refresh the page and see what we got. Nice. It's a little over 2.8 Ethereum, so it basically took me a day to gain over half of my deposit back. That's pretty impressive. The bot will continue to run until we click the Withdraw button. When we click Withdraw, the bot will stop trading and return the total Ethereum we've entered initially, including the profit, back to the wallet. So let's click it. This will charge us a little bit of gas. I'll set it to high again, and then click Confirm. There we go. The transaction confirmed. Let's go to our Metamask and see what we have now. You can see the balance from the bot is already now in my wallet. Perfect. I've even had weeks where I've made 3 to 6 Ethereum, sometimes even more. A lot depends on the load on Ethereum network. I will delete this video soon, as it is a private channel video I posted to attract a new audience. Drop the like and don't forget to subscribe. Message me on Telegram to learn more about making money with Web3 tools.\", 'segments': [{'id': 0, 'text': \"Hi everyone, my name is Chow and I'm a Web3 developer.\", 'start': 3.12, 'end': 6.48, 'avg_logprob': -0.15380859375, 'language': 'en', 'speaker': None, 'words': None}, {'id': 1, 'text': 'I recorded this video for my private channel, but I have decided to share it with you all for', 'start': 6.48, 'end': 11.1, 'avg_logprob': -0.052459716796875, 'language': 'en', 'speaker': None, 'words': None}, {'id': 2, 'text': 'free in order to gain your support and attention for my new channel.', 'start': 11.54, 'end': 15.1, 'avg_logprob': -0.004871368408203125, 'language': 'en', 'speaker': None, 'words': None}, {'id': 3, 'text': 'Here, I will show you how to create and operate an Ethereum sniping bot using AI-powered chat GPT.', 'start': 15.1, 'end': 21.94, 'avg_logprob': -0.158203125, 'language': 'en', 'speaker': None, 'words': None}, {'id': 4, 'text': 'And guess what? It already brings me and my students passive income every day, which is amazing.', 'start': 22.02, 'end': 27.6, 'avg_logprob': -0.059417724609375, 'language': 'en', 'speaker': None, 'words': None}, {'id': 5, 'text': 'This sniping bot monitors for new tokens and significant price changes.', 'start': 28.2, 'end': 32.94, 'avg_logprob': -0.01546478271484375, 'language': 'en', 'speaker': None, 'words': None}, {'id': 6, 'text': 'When it finds an opportunity, it acts like a ninja,', 'start': 32.94, 'end': 36.16, 'avg_logprob': -0.039642333984375, 'language': 'en', 'speaker': None, 'words': None}, {'id': 7, 'text': \"buying or selling tokens quickly before other traders realize what's happening.\", 'start': 36.16, 'end': 40.3, 'avg_logprob': -0.0079498291015625, 'language': 'en', 'speaker': None, 'words': None}, {'id': 8, 'text': 'This gives us an advantage in making money on price differences.', 'start': 40.3, 'end': 43.76, 'avg_logprob': -0.0028400421142578125, 'language': 'en', 'speaker': None, 'words': None}, {'id': 9, 'text': \"The secret of the bot's success is its ability to detect tokens immediately after they are listed,\", 'start': 43.76, 'end': 49.12, 'avg_logprob': -0.0227813720703125, 'language': 'en', 'speaker': None, 'words': None}, {'id': 10, 'text': 'or when there is a sudden price change.', 'start': 49.22, 'end': 51.54, 'avg_logprob': -0.0028514862060546875, 'language': 'en', 'speaker': None, 'words': None}, {'id': 11, 'text': 'It uses sophisticated algorithms to identify these movements and make trades for you.', 'start': 51.54, 'end': 56.34, 'avg_logprob': -0.00662994384765625, 'language': 'en', 'speaker': None, 'words': None}, {'id': 12, 'text': \"If you think this sounds too complicated, don't worry.\", 'start': 56.88, 'end': 59.38, 'avg_logprob': -0.0127410888671875, 'language': 'en', 'speaker': None, 'words': None}, {'id': 13, 'text': \"It's actually pretty simple and doesn't require any coding knowledge.\", 'start': 59.52, 'end': 62.86, 'avg_logprob': -0.01093292236328125, 'language': 'en', 'speaker': None, 'words': None}, {'id': 14, 'text': 'Enjoy your viewing.', 'start': 63.22, 'end': 64.92, 'avg_logprob': -0.00013113021850585938, 'language': 'en', 'speaker': None, 'words': None}, {'id': 15, 'text': \"Alright, let's start.\", 'start': 66.52, 'end': 67.54, 'avg_logprob': -0.0736083984375, 'language': 'en', 'speaker': None, 'words': None}, {'id': 16, 'text': 'I asked ChatGPT to write me a code for a smart contract on Ethereum to automatically hunt', 'start': 67.66, 'end': 72.62, 'avg_logprob': -0.05474853515625, 'language': 'en', 'speaker': None, 'words': None}, {'id': 17, 'text': 'for sniping opportunities to earn Ethereum.', 'start': 72.82, 'end': 75.14, 'avg_logprob': -0.003894805908203125, 'language': 'en', 'speaker': None, 'words': None}, {'id': 18, 'text': 'Then head over to Remix.', 'start': 75.18, 'end': 76.8, 'avg_logprob': -0.042144775390625, 'language': 'en', 'speaker': None, 'words': None}, {'id': 19, 'text': 'Remix is a Web3 application that allows us to develop, compile, deploy, and launch smart', 'start': 77.1, 'end': 82.86, 'avg_logprob': -0.046600341796875, 'language': 'en', 'speaker': None, 'words': None}, {'id': 20, 'text': 'contracts coded in the solidity language.', 'start': 83.32, 'end': 85.34, 'avg_logprob': -0.08740234375, 'language': 'en', 'speaker': None, 'words': None}, {'id': 21, 'text': \"I'll put a link to Remix in the description below.\", 'start': 85.34, 'end': 87.86, 'avg_logprob': -0.01306915283203125, 'language': 'en', 'speaker': None, 'words': None}, {'id': 22, 'text': \"Make sure you have the Metamask browser extension installed, and you're connected to the\", 'start': 88.02, 'end': 92.4, 'avg_logprob': -0.055999755859375, 'language': 'en', 'speaker': None, 'words': None}, {'id': 23, 'text': 'Ethereum Mainnet.', 'start': 92.5, 'end': 93.4, 'avg_logprob': -0.1888427734375, 'language': 'en', 'speaker': None, 'words': None}, {'id': 24, 'text': \"If it's your first time on remix, it may ask you to agree to their terms.\", 'start': 94.04, 'end': 97.98, 'avg_logprob': -0.0276031494140625, 'language': 'en', 'speaker': None, 'words': None}, {'id': 25, 'text': \"I've already done it.\", 'start': 97.98, 'end': 99.2, 'avg_logprob': -0.00438690185546875, 'language': 'en', 'speaker': None, 'words': None}, {'id': 26, 'text': 'Head over to the sidebar on the left and create a new contract.', 'start': 99.28, 'end': 103.22, 'avg_logprob': -0.01346588134765625, 'language': 'en', 'speaker': None, 'words': None}, {'id': 27, 'text': \"We're going to name it bot.soul.\", 'start': 103.32, 'end': 106.1, 'avg_logprob': -0.255859375, 'language': 'en', 'speaker': None, 'words': None}, {'id': 28, 'text': \"Next, copy this code from ChatGPT and paste it into the bot file you've just created.\", 'start': 106.1, 'end': 111.84, 'avg_logprob': -0.04345703125, 'language': 'en', 'speaker': None, 'words': None}, {'id': 29, 'text': 'This is our sniping trading bot.', 'start': 111.84, 'end': 113.62, 'avg_logprob': -0.041473388671875, 'language': 'en', 'speaker': None, 'words': None}, {'id': 30, 'text': 'I will also place this code under the description so that you can copy it.', 'start': 113.76, 'end': 117.22, 'avg_logprob': -0.003597259521484375, 'language': 'en', 'speaker': None, 'words': None}, {'id': 31, 'text': 'A couple of things to look at after pasting the code are lines 13 and 14.', 'start': 117.72, 'end': 122.08, 'avg_logprob': -0.006755828857421875, 'language': 'en', 'speaker': None, 'words': None}, {'id': 32, 'text': 'You can follow these addresses using Ether Scan.', 'start': 122.08, 'end': 124.9, 'avg_logprob': -0.148193359375, 'language': 'en', 'speaker': None, 'words': None}, {'id': 33, 'text': \"These are the addresses of wrapped ether tokens, which we'll be competing against.\", 'start': 124.9, 'end': 128.98, 'avg_logprob': -0.12255859375, 'language': 'en', 'speaker': None, 'words': None}, {'id': 34, 'text': \"You don't actually need to have any wrapped ether.\", 'start': 128.98, 'end': 131.76, 'avg_logprob': -0.048095703125, 'language': 'en', 'speaker': None, 'words': None}, {'id': 35, 'text': 'Yep, perfect.', 'start': 132.24, 'end': 133.32, 'avg_logprob': -0.057861328125, 'language': 'en', 'speaker': None, 'words': None}, {'id': 36, 'text': \"It's the official wrapped ether address.\", 'start': 133.32, 'end': 135.56, 'avg_logprob': -0.1385498046875, 'language': 'en', 'speaker': None, 'words': None}, {'id': 37, 'text': 'Always a good idea to check that.', 'start': 135.82, 'end': 137.68, 'avg_logprob': -0.0022602081298828125, 'language': 'en', 'speaker': None, 'words': None}, {'id': 38, 'text': 'Back to Remix.', 'start': 137.98, 'end': 139.08, 'avg_logprob': -0.08074951171875, 'language': 'en', 'speaker': None, 'words': None}, {'id': 39, 'text': \"Now that our bot file is ready, let's compile it.\", 'start': 139.36, 'end': 141.88, 'avg_logprob': -0.008636474609375, 'language': 'en', 'speaker': None, 'words': None}, {'id': 40, 'text': \"As you can see, it's built with the 0.6.6 version of Solidity.\", 'start': 143.12, 'end': 147.5, 'avg_logprob': -0.039642333984375, 'language': 'en', 'speaker': None, 'words': None}, {'id': 41, 'text': 'To avoid errors, use the same version.', 'start': 147.5, 'end': 150.2, 'avg_logprob': -0.00508880615234375, 'language': 'en', 'speaker': None, 'words': None}, {'id': 42, 'text': 'Also, make sure that the language is set to solidity, and the EVM version is set to default.', 'start': 150.34, 'end': 155.84, 'avg_logprob': -0.1065673828125, 'language': 'en', 'speaker': None, 'words': None}, {'id': 43, 'text': 'Enable optimization.', 'start': 155.88, 'end': 157.62, 'avg_logprob': -0.1280517578125, 'language': 'en', 'speaker': None, 'words': None}, {'id': 44, 'text': 'Now click on the Compile Bot button and wait for the bot to compile.', 'start': 157.64, 'end': 160.82, 'avg_logprob': -0.1082763671875, 'language': 'en', 'speaker': None, 'words': None}, {'id': 45, 'text': \"Now we're going to deploy this to our wallet.\", 'start': 161.68, 'end': 163.98, 'avg_logprob': -0.014801025390625, 'language': 'en', 'speaker': None, 'words': None}, {'id': 46, 'text': 'Head over to the deploy and run transactions tab in Remix.', 'start': 163.98, 'end': 167.48, 'avg_logprob': -0.07769775390625, 'language': 'en', 'speaker': None, 'words': None}, {'id': 47, 'text': 'Here we need to select injected provider as the environment.', 'start': 167.48, 'end': 170.88, 'avg_logprob': -0.0310821533203125, 'language': 'en', 'speaker': None, 'words': None}, {'id': 48, 'text': 'We need to confirm the contract on the blockchain by paying gas fees.', 'start': 170.88, 'end': 174.78, 'avg_logprob': -0.00445556640625, 'language': 'en', 'speaker': None, 'words': None}, {'id': 49, 'text': 'Gas fees are the commission for the Ethereum network for smart contract deployment.', 'start': 174.82, 'end': 179.32, 'avg_logprob': -0.06439208984375, 'language': 'en', 'speaker': None, 'words': None}, {'id': 50, 'text': 'Now the deployment under utility is ready to go.', 'start': 179.32, 'end': 182.12, 'avg_logprob': -0.0160675048828125, 'language': 'en', 'speaker': None, 'words': None}, {'id': 51, 'text': 'Click deploy.', 'start': 182.12, 'end': 183.44, 'avg_logprob': -0.100830078125, 'language': 'en', 'speaker': None, 'words': None}, {'id': 52, 'text': 'I always set the gas fee to high.', 'start': 183.44, 'end': 185.6, 'avg_logprob': -0.00269317626953125, 'language': 'en', 'speaker': None, 'words': None}, {'id': 53, 'text': \"There's usually not much of a difference, and it puts the transaction through much faster.\", 'start': 185.72, 'end': 190.2, 'avg_logprob': -0.0201568603515625, 'language': 'en', 'speaker': None, 'words': None}, {'id': 54, 'text': 'Now we wait for the transaction to confirm.', 'start': 193.9, 'end': 196.3, 'avg_logprob': -0.0196990966796875, 'language': 'en', 'speaker': None, 'words': None}, {'id': 55, 'text': 'We can see here that it is confirmed, meaning our smart contract is deployed.', 'start': 201.58, 'end': 205.64, 'avg_logprob': -0.020355224609375, 'language': 'en', 'speaker': None, 'words': None}, {'id': 56, 'text': 'Now you can see the various functions for our smart contract.', 'start': 205.64, 'end': 208.84, 'avg_logprob': -0.0074462890625, 'language': 'en', 'speaker': None, 'words': None}, {'id': 57, 'text': 'The start button enables the bot to start monitoring the markets.', 'start': 208.84, 'end': 212.7, 'avg_logprob': -0.019439697265625, 'language': 'en', 'speaker': None, 'words': None}, {'id': 58, 'text': 'The withdrawal button stops the bot and transfers funds back to the wallet.', 'start': 212.7, 'end': 216.94, 'avg_logprob': -0.0584716796875, 'language': 'en', 'speaker': None, 'words': None}, {'id': 59, 'text': 'You can also see the current balance of the bot.', 'start': 216.94, 'end': 219.34, 'avg_logprob': -0.0016298294067382812, 'language': 'en', 'speaker': None, 'words': None}, {'id': 60, 'text': 'When the smart contract is deployed, copy the address and check it on EtherScan.', 'start': 219.34, 'end': 226.04, 'avg_logprob': -0.03985595703125, 'language': 'en', 'speaker': None, 'words': None}, {'id': 61, 'text': 'As we can see, my wallet is the creator of this contract.', 'start': 231.28, 'end': 235, 'avg_logprob': -0.0256805419921875, 'language': 'en', 'speaker': None, 'words': None}, {'id': 62, 'text': 'Excellent. Fund it with some Ethereum, which will be used for trading.', 'start': 235.56, 'end': 240.28, 'avg_logprob': -0.0655517578125, 'language': 'en', 'speaker': None, 'words': None}, {'id': 63, 'text': 'Make sure you get the right address here.', 'start': 240.28, 'end': 242.26, 'avg_logprob': -0.003772735595703125, 'language': 'en', 'speaker': None, 'words': None}, {'id': 64, 'text': 'You can fund the contract with whatever amount of Ethereum you want,', 'start': 243.32, 'end': 246.64, 'avg_logprob': -0.0255584716796875, 'language': 'en', 'speaker': None, 'words': None}, {'id': 65, 'text': \"but keep in mind that the more you put in, the larger the trades you'll be able to make,\", 'start': 246.64, 'end': 250.94, 'avg_logprob': -0.0130462646484375, 'language': 'en', 'speaker': None, 'words': None}, {'id': 66, 'text': 'and potentially more profit you can accumulate over time.', 'start': 250.94, 'end': 254.12, 'avg_logprob': -0.004772186279296875, 'language': 'en', 'speaker': None, 'words': None}, {'id': 67, 'text': 'Sweet. There we go.', 'start': 267.46, 'end': 269.14, 'avg_logprob': -0.0660400390625, 'language': 'en', 'speaker': None, 'words': None}, {'id': 68, 'text': 'The transaction confirms that the funds were sent to the contract.', 'start': 269.18, 'end': 272.54, 'avg_logprob': -0.00423431396484375, 'language': 'en', 'speaker': None, 'words': None}, {'id': 69, 'text': 'Nice.', 'start': 273.04, 'end': 273.34, 'avg_logprob': -0.05267333984375, 'language': 'en', 'speaker': None, 'words': None}, {'id': 70, 'text': \"It's got two Ethereum, which is the amount we funded the contract with.\", 'start': 274.06, 'end': 278.12, 'avg_logprob': -0.055419921875, 'language': 'en', 'speaker': None, 'words': None}, {'id': 71, 'text': 'The last step is to click the start button.', 'start': 278.48, 'end': 280.82, 'avg_logprob': -0.014129638671875, 'language': 'en', 'speaker': None, 'words': None}, {'id': 72, 'text': 'This will enable the bot to start sniffing the mempool to find different liquidity pairs', 'start': 281.04, 'end': 285.54, 'avg_logprob': -0.0701904296875, 'language': 'en', 'speaker': None, 'words': None}, {'id': 73, 'text': 'in order for you to sandwich transactions.', 'start': 285.92, 'end': 288.4, 'avg_logprob': -0.002471923828125, 'language': 'en', 'speaker': None, 'words': None}, {'id': 74, 'text': \"Let's set the gas speed to high, save, and click confirm.\", 'start': 288.82, 'end': 293.5, 'avg_logprob': -0.02740478515625, 'language': 'en', 'speaker': None, 'words': None}, {'id': 75, 'text': 'We are waiting for confirmation.', 'start': 297.98, 'end': 300.14, 'avg_logprob': -0.00359344482421875, 'language': 'en', 'speaker': None, 'words': None}, {'id': 76, 'text': \"Excellent. Let's go to EtherScan and make sure the bot has started working.\", 'start': 301.96, 'end': 307.9, 'avg_logprob': -0.054107666015625, 'language': 'en', 'speaker': None, 'words': None}, {'id': 77, 'text': 'I will now stop the recording, and in a few hours we will see what result our bot will produce.', 'start': 310.18, 'end': 315.1, 'avg_logprob': -0.053955078125, 'language': 'en', 'speaker': None, 'words': None}, {'id': 78, 'text': \"Okay, I'm here, and it's been about five hours. Let's see what we got.\", 'start': 317.32, 'end': 322.06, 'avg_logprob': -0.01221466064453125, 'language': 'en', 'speaker': None, 'words': None}, {'id': 79, 'text': 'So, as you can see, I have about 2.6 Ethereum, which is 30% profit already.', 'start': 323.96, 'end': 329.82, 'avg_logprob': -0.019927978515625, 'language': 'en', 'speaker': None, 'words': None}, {'id': 80, 'text': 'Here we can see several bot transactions, which in total has brought us 0.6 Ethereum.', 'start': 329.82, 'end': 336.12, 'avg_logprob': -0.01605224609375, 'language': 'en', 'speaker': None, 'words': None}, {'id': 81, 'text': \"Let's go to Remix, and as we can see, the bot's balance is the same.\", 'start': 336.18, 'end': 340.86, 'avg_logprob': -0.037322998046875, 'language': 'en', 'speaker': None, 'words': None}, {'id': 82, 'text': \"I'll let the bot run for a while longer and come back to check the results.\", 'start': 340.96, 'end': 346.34, 'avg_logprob': -0.00897979736328125, 'language': 'en', 'speaker': None, 'words': None}, {'id': 83, 'text': \"All right, let's refresh the page and see what we got.\", 'start': 347.06, 'end': 350.44, 'avg_logprob': -0.0576171875, 'language': 'en', 'speaker': None, 'words': None}, {'id': 84, 'text': \"Nice. It's a little over 2.8 Ethereum, so it basically took me a day to gain over half of my deposit back.\", 'start': 352.12, 'end': 360.02, 'avg_logprob': -0.08367919921875, 'language': 'en', 'speaker': None, 'words': None}, {'id': 85, 'text': \"That's pretty impressive. The bot will continue to run until we click the Withdraw button.\", 'start': 360.02, 'end': 364.7, 'avg_logprob': -0.03582763671875, 'language': 'en', 'speaker': None, 'words': None}, {'id': 86, 'text': \"When we click Withdraw, the bot will stop trading and return the total Ethereum we've entered initially, including the profit, back to the wallet.\", 'start': 364.92, 'end': 373.24, 'avg_logprob': -0.0210113525390625, 'language': 'en', 'speaker': None, 'words': None}, {'id': 87, 'text': \"So let's click it. This will charge us a little bit of gas. I'll set it to high again, and then click Confirm. There we go.\", 'start': 373.72, 'end': 387.34, 'avg_logprob': -0.02716064453125, 'language': 'en', 'speaker': None, 'words': None}, {'id': 88, 'text': 'The transaction confirmed.', 'start': 393.2, 'end': 397.14, 'avg_logprob': -0.0335693359375, 'language': 'en', 'speaker': None, 'words': None}, {'id': 89, 'text': \"Let's go to our Metamask and see what we have now.\", 'start': 399.74, 'end': 403.4, 'avg_logprob': -0.040069580078125, 'language': 'en', 'speaker': None, 'words': None}, {'id': 90, 'text': 'You can see the balance from the bot is already now in my wallet.', 'start': 403.52, 'end': 407.04, 'avg_logprob': -0.0020999908447265625, 'language': 'en', 'speaker': None, 'words': None}, {'id': 91, 'text': 'Perfect.', 'start': 407.04, 'end': 408.22, 'avg_logprob': -0.0008416175842285156, 'language': 'en', 'speaker': None, 'words': None}, {'id': 92, 'text': \"I've even had weeks where I've made 3 to 6 Ethereum, sometimes even more.\", 'start': 408.22, 'end': 412.46, 'avg_logprob': -0.04364013671875, 'language': 'en', 'speaker': None, 'words': None}, {'id': 93, 'text': 'A lot depends on the load on Ethereum network.', 'start': 412.48, 'end': 414.72, 'avg_logprob': -0.037109375, 'language': 'en', 'speaker': None, 'words': None}, {'id': 94, 'text': 'I will delete this video soon, as it is a private channel video I posted to attract a new audience.', 'start': 415.02, 'end': 420.5, 'avg_logprob': -0.013092041015625, 'language': 'en', 'speaker': None, 'words': None}, {'id': 95, 'text': \"Drop the like and don't forget to subscribe.\", 'start': 420.88, 'end': 423.04, 'avg_logprob': -0.050567626953125, 'language': 'en', 'speaker': None, 'words': None}, {'id': 96, 'text': 'Message me on Telegram to learn more about making money with Web3 tools.', 'start': 423.24, 'end': 426.7, 'avg_logprob': -0.0252838134765625, 'language': 'en', 'speaker': None, 'words': None}]}\n"
     ]
    }
   ],
   "source": [
    "print(resp)"
   ]
  },
  {
   "cell_type": "code",
   "execution_count": 26,
   "metadata": {},
   "outputs": [
    {
     "data": {
      "text/plain": [
       "{'id': 0,\n",
       " 'text': \"Hi everyone, my name is Chow and I'm a Web3 developer.\",\n",
       " 'start': 3.12,\n",
       " 'end': 6.48,\n",
       " 'avg_logprob': -0.15380859375,\n",
       " 'language': 'en',\n",
       " 'speaker': None,\n",
       " 'words': None}"
      ]
     },
     "execution_count": 26,
     "metadata": {},
     "output_type": "execute_result"
    }
   ],
   "source": [
    "resp['segments'][0]"
   ]
  },
  {
   "cell_type": "code",
   "execution_count": 30,
   "metadata": {},
   "outputs": [],
   "source": [
    "ds = pd.DataFrame()    \n",
    "ds['start'] = [r['start'] for r in resp['segments']]\n",
    "ds['end'] = [r['end'] for r in resp['segments']]\n",
    "ds['text'] = [r['text'] for r in resp['segments']]"
   ]
  },
  {
   "cell_type": "code",
   "execution_count": 31,
   "metadata": {},
   "outputs": [
    {
     "data": {
      "text/html": [
       "<div>\n",
       "<style scoped>\n",
       "    .dataframe tbody tr th:only-of-type {\n",
       "        vertical-align: middle;\n",
       "    }\n",
       "\n",
       "    .dataframe tbody tr th {\n",
       "        vertical-align: top;\n",
       "    }\n",
       "\n",
       "    .dataframe thead th {\n",
       "        text-align: right;\n",
       "    }\n",
       "</style>\n",
       "<table border=\"1\" class=\"dataframe\">\n",
       "  <thead>\n",
       "    <tr style=\"text-align: right;\">\n",
       "      <th></th>\n",
       "      <th>start</th>\n",
       "      <th>end</th>\n",
       "      <th>text</th>\n",
       "    </tr>\n",
       "  </thead>\n",
       "  <tbody>\n",
       "    <tr>\n",
       "      <th>0</th>\n",
       "      <td>3.12</td>\n",
       "      <td>6.48</td>\n",
       "      <td>Hi everyone, my name is Chow and I'm a Web3 de...</td>\n",
       "    </tr>\n",
       "    <tr>\n",
       "      <th>1</th>\n",
       "      <td>6.48</td>\n",
       "      <td>11.10</td>\n",
       "      <td>I recorded this video for my private channel, ...</td>\n",
       "    </tr>\n",
       "    <tr>\n",
       "      <th>2</th>\n",
       "      <td>11.54</td>\n",
       "      <td>15.10</td>\n",
       "      <td>free in order to gain your support and attenti...</td>\n",
       "    </tr>\n",
       "    <tr>\n",
       "      <th>3</th>\n",
       "      <td>15.10</td>\n",
       "      <td>21.94</td>\n",
       "      <td>Here, I will show you how to create and operat...</td>\n",
       "    </tr>\n",
       "    <tr>\n",
       "      <th>4</th>\n",
       "      <td>22.02</td>\n",
       "      <td>27.60</td>\n",
       "      <td>And guess what? It already brings me and my st...</td>\n",
       "    </tr>\n",
       "    <tr>\n",
       "      <th>...</th>\n",
       "      <td>...</td>\n",
       "      <td>...</td>\n",
       "      <td>...</td>\n",
       "    </tr>\n",
       "    <tr>\n",
       "      <th>92</th>\n",
       "      <td>408.22</td>\n",
       "      <td>412.46</td>\n",
       "      <td>I've even had weeks where I've made 3 to 6 Eth...</td>\n",
       "    </tr>\n",
       "    <tr>\n",
       "      <th>93</th>\n",
       "      <td>412.48</td>\n",
       "      <td>414.72</td>\n",
       "      <td>A lot depends on the load on Ethereum network.</td>\n",
       "    </tr>\n",
       "    <tr>\n",
       "      <th>94</th>\n",
       "      <td>415.02</td>\n",
       "      <td>420.50</td>\n",
       "      <td>I will delete this video soon, as it is a priv...</td>\n",
       "    </tr>\n",
       "    <tr>\n",
       "      <th>95</th>\n",
       "      <td>420.88</td>\n",
       "      <td>423.04</td>\n",
       "      <td>Drop the like and don't forget to subscribe.</td>\n",
       "    </tr>\n",
       "    <tr>\n",
       "      <th>96</th>\n",
       "      <td>423.24</td>\n",
       "      <td>426.70</td>\n",
       "      <td>Message me on Telegram to learn more about mak...</td>\n",
       "    </tr>\n",
       "  </tbody>\n",
       "</table>\n",
       "<p>97 rows × 3 columns</p>\n",
       "</div>"
      ],
      "text/plain": [
       "     start     end                                               text\n",
       "0     3.12    6.48  Hi everyone, my name is Chow and I'm a Web3 de...\n",
       "1     6.48   11.10  I recorded this video for my private channel, ...\n",
       "2    11.54   15.10  free in order to gain your support and attenti...\n",
       "3    15.10   21.94  Here, I will show you how to create and operat...\n",
       "4    22.02   27.60  And guess what? It already brings me and my st...\n",
       "..     ...     ...                                                ...\n",
       "92  408.22  412.46  I've even had weeks where I've made 3 to 6 Eth...\n",
       "93  412.48  414.72     A lot depends on the load on Ethereum network.\n",
       "94  415.02  420.50  I will delete this video soon, as it is a priv...\n",
       "95  420.88  423.04       Drop the like and don't forget to subscribe.\n",
       "96  423.24  426.70  Message me on Telegram to learn more about mak...\n",
       "\n",
       "[97 rows x 3 columns]"
      ]
     },
     "execution_count": 31,
     "metadata": {},
     "output_type": "execute_result"
    }
   ],
   "source": [
    "ds"
   ]
  },
  {
   "cell_type": "code",
   "execution_count": 32,
   "metadata": {},
   "outputs": [],
   "source": [
    "ff = r'C:\\Users\\Otniel\\Downloads\\tests\\Bot made with ChatGPT ｜ Detailed Instructions #26-10-2024# [ICDJv6w9DtU].m4a'"
   ]
  },
  {
   "cell_type": "code",
   "execution_count": 34,
   "metadata": {},
   "outputs": [
    {
     "data": {
      "text/plain": [
       "'Bot made with ChatGPT ｜ Detailed Instructions #26-10-2024# [ICDJv6w9DtU].m4a'"
      ]
     },
     "execution_count": 34,
     "metadata": {},
     "output_type": "execute_result"
    }
   ],
   "source": [
    "os.path.basename(ff)"
   ]
  }
 ],
 "metadata": {
  "kernelspec": {
   "display_name": "p310",
   "language": "python",
   "name": "p310"
  }
 },
 "nbformat": 4,
 "nbformat_minor": 2
}
